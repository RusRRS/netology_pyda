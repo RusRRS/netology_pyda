{
 "cells": [
  {
   "cell_type": "markdown",
   "metadata": {},
   "source": [
    "### Вводные данные"
   ]
  },
  {
   "cell_type": "code",
   "execution_count": 1,
   "metadata": {},
   "outputs": [],
   "source": [
    "students_list = [\n",
    "    {'name': 'Василий', 'surname': 'Теркин', 'sex': 'м', 'program_exp': True, 'grade': [8, 8, 9, 10, 9], 'exam': 9},\n",
    "    {'name': 'Мария', 'surname': 'Павлова', 'sex': 'ж', 'program_exp': True, 'grade': [7, 8, 9, 7, 9], 'exam': 8},\n",
    "    {'name': 'Ирина', 'surname': 'Андреева', 'sex': 'ж', 'program_exp': True, 'grade': [10, 9, 8, 10, 10], 'exam': 10},\n",
    "    {'name': 'Татьяна', 'surname': 'Сидорова', 'sex': 'ж', 'program_exp': True, 'grade': [7, 8, 8, 9, 8], 'exam': 8},\n",
    "    {'name': 'Иван', 'surname': 'Васильев', 'sex': 'м', 'program_exp': True, 'grade': [9, 8, 9, 6, 9], 'exam': 10},\n",
    "    {'name': 'Роман', 'surname': 'Золотарев', 'sex': 'м', 'program_exp': False, 'grade': [8, 9, 9, 6, 9], 'exam': 10}\n",
    "]"
   ]
  },
  {
   "cell_type": "code",
   "execution_count": 2,
   "metadata": {},
   "outputs": [],
   "source": [
    "# Раздел 01. Формируем функции с выбором всех вариантов:\n",
    "# Шаг 01.01. Задаем список список оценок за домашнее задание\n",
    "def grade_list():\n",
    "    grade_list = []\n",
    "    for element_list in students_list:\n",
    "        for element in element_list['grade']:\n",
    "            grade_list.append(element)\n",
    "    return grade_list\n",
    "# Шаг 01.02. Задаем список список оценок за экзамен\n",
    "def exam_list():\n",
    "    exam_list = []\n",
    "    for element in students_list:\n",
    "        exam_list.append(element['exam'])\n",
    "    return exam_list\n",
    "# Шаг 01.03. Выводим обобщенный вариант для вывода без фильтров\n",
    "def var_all():\n",
    "    result_exam = round(sum(exam_list()) / len(exam_list()), 2)\n",
    "    result_grade = round(sum(grade_list()) / len(grade_list()), 2)\n",
    "# Шаг 01.04.Вывод результатов\n",
    "    print(\"Средняя оценка за домашние задания по группе: \", result_grade, sep=\"\")\n",
    "    print(\"Средняя оценка за экзамен по группе: \", result_exam, sep=\"\")    \n",
    "\n",
    "#     return \"Средняя оценка за домашнее задание по группе: \", result_grade,\"по экзаменам: \", result_exam\n",
    "#     print(\"Средняя оценка по группе. За домашнее задание: \", result_grade, \", за экзамен: \", result_exam, sep=\"\")"
   ]
  },
  {
   "cell_type": "code",
   "execution_count": 3,
   "metadata": {},
   "outputs": [],
   "source": [
    "# Формируем функции с выбором вариантов по фильтрам:\n",
    "\n",
    "# Задаем список список оценок за домашнее задание\n",
    "def grade_list_filter(filter_name, filter_value):\n",
    "    filter_list = []\n",
    "    for element_list in students_list:\n",
    "        if element_list[filter_name] == filter_value:\n",
    "            for element in element_list['grade']:\n",
    "                filter_list.append(element)\n",
    "    return filter_list           \n",
    "\n",
    "# Задаем список список оценок за экзамен\n",
    "def exam_list_filter(filter_name, filter_value):\n",
    "    filter_list = []\n",
    "    for element in students_list:\n",
    "        if element[filter_name] == filter_value:\n",
    "            filter_list.append(element['exam'])\n",
    "    return filter_list\n",
    "\n",
    "# Выводим обобщенный вариант для вывода без фильтров\n",
    "def var_filter(filter_name, filter_value):\n",
    "    result_exam = round(sum(exam_list_filter(filter_name,filter_value)) / len(exam_list_filter(filter_name,filter_value)),2)\n",
    "    result_grade = round(sum(grade_list_filter(filter_name,filter_value)) / len(grade_list_filter(filter_name,filter_value)),2)\n",
    "    print(\"ДЗ: \", result_exam, sep=\"\")\n",
    "    print(\"Экзамены: \", result_grade, sep=\"\")\n",
    "#     return result_grade, result_exam\n",
    "#     print(\"Средняя оценка по группе \", filter_name , filter_value, result_grade, \", за экзамен: \", result_exam, sep=\" \")\n"
   ]
  },
  {
   "cell_type": "code",
   "execution_count": 4,
   "metadata": {},
   "outputs": [],
   "source": [
    "# Функция для вывода результатов:\n",
    "# Список команд: \n",
    "# 1 - вывести на экран среднюю оценку за все ДЗ по группе и вывести на экран среднюю оценку за экзамен по группе; \n",
    "# 2 - вывести среднюю оценку за ДЗ и за экзамен по группе в разрезе пола студентов \n",
    "# 3 - вывести среднюю оценку за ДЗ и за экзамен в разрезе наличия опыта в программировании у студентов.\n",
    "def input_func(input_code):\n",
    "    if input_code == 1:\n",
    "        print(\"Команда №1\")\n",
    "        print(var_all())\n",
    "    elif input_code == 2:\n",
    "        print(\"Команда №2\")\n",
    "        print(\"Средняя оценка среди женщин составляет: \")\n",
    "        print(var_filter(\"sex\", \"ж\"))\n",
    "        print(\"Средняя оценка среди мужчин составляет: \")\n",
    "        print(var_filter(\"sex\", \"м\"))          \n",
    "    elif input_code == 3:\n",
    "        print(\"Команда №3\")\n",
    "        print(\"Средняя оценка среди имеющих опыт в программировании составляет: \")\n",
    "        print(var_filter(\"sex\", \"ж\"))\n",
    "        print(\"Средняя оценка среди не имеющих опыт в программировании составляет: \")\n",
    "        print(var_filter(\"sex\", \"м\"))    \n",
    "    else:\n",
    "        print(\"Неправильная команда\")\n",
    "    return input_code"
   ]
  },
  {
   "cell_type": "code",
   "execution_count": 5,
   "metadata": {},
   "outputs": [
    {
     "name": "stdout",
     "output_type": "stream",
     "text": [
      "1\n",
      "Команда №1\n",
      "Средняя оценка за домашние задания по группе: 8.43\n",
      "Средняя оценка за экзамен по группе: 9.17\n",
      "None\n"
     ]
    },
    {
     "data": {
      "text/plain": [
       "1"
      ]
     },
     "execution_count": 5,
     "metadata": {},
     "output_type": "execute_result"
    }
   ],
   "source": [
    "# Выводим результат:\n",
    "input_func(int(input()))"
   ]
  },
  {
   "cell_type": "code",
   "execution_count": 6,
   "metadata": {},
   "outputs": [
    {
     "name": "stdout",
     "output_type": "stream",
     "text": [
      "2\n",
      "Команда №2\n",
      "Средняя оценка среди женщин составляет: \n",
      "ДЗ: 8.67\n",
      "Экзамены: 8.47\n",
      "None\n",
      "Средняя оценка среди мужчин составляет: \n",
      "ДЗ: 9.67\n",
      "Экзамены: 8.4\n",
      "None\n"
     ]
    },
    {
     "data": {
      "text/plain": [
       "2"
      ]
     },
     "execution_count": 6,
     "metadata": {},
     "output_type": "execute_result"
    }
   ],
   "source": [
    "input_func(int(input()))"
   ]
  },
  {
   "cell_type": "code",
   "execution_count": 7,
   "metadata": {},
   "outputs": [
    {
     "name": "stdout",
     "output_type": "stream",
     "text": [
      "3\n",
      "Команда №3\n",
      "Средняя оценка среди имеющих опыт в программировании составляет: \n",
      "ДЗ: 8.67\n",
      "Экзамены: 8.47\n",
      "None\n",
      "Средняя оценка среди не имеющих опыт в программировании составляет: \n",
      "ДЗ: 9.67\n",
      "Экзамены: 8.4\n",
      "None\n"
     ]
    },
    {
     "data": {
      "text/plain": [
       "3"
      ]
     },
     "execution_count": 7,
     "metadata": {},
     "output_type": "execute_result"
    }
   ],
   "source": [
    "input_func(int(input()))"
   ]
  },
  {
   "cell_type": "code",
   "execution_count": 8,
   "metadata": {},
   "outputs": [
    {
     "name": "stdout",
     "output_type": "stream",
     "text": [
      "4\n",
      "Неправильная команда\n"
     ]
    },
    {
     "data": {
      "text/plain": [
       "4"
      ]
     },
     "execution_count": 8,
     "metadata": {},
     "output_type": "execute_result"
    }
   ],
   "source": [
    "input_func(int(input()))"
   ]
  }
 ],
 "metadata": {
  "kernelspec": {
   "display_name": "Python 3",
   "language": "python",
   "name": "python3"
  },
  "language_info": {
   "codemirror_mode": {
    "name": "ipython",
    "version": 3
   },
   "file_extension": ".py",
   "mimetype": "text/x-python",
   "name": "python",
   "nbconvert_exporter": "python",
   "pygments_lexer": "ipython3",
   "version": "3.6.4"
  }
 },
 "nbformat": 4,
 "nbformat_minor": 2
}
