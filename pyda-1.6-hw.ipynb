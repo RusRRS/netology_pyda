{
 "cells": [
  {
   "cell_type": "markdown",
   "metadata": {},
   "source": [
    "## Домашнее задание 06."
   ]
  },
  {
   "cell_type": "markdown",
   "metadata": {},
   "source": [
    "### Задание 1. \n",
    "* Скачайте с сайта https://grouplens.org/datasets/movielens/ датасет любого размера.\n",
    "* Определите какому фильму было выставлено больше всего оценок 5.0."
   ]
  },
  {
   "cell_type": "code",
   "execution_count": 5,
   "metadata": {},
   "outputs": [
    {
     "data": {
      "text/plain": [
       "Shawshank Redemption, The (1994)    153\n",
       "Name: title, dtype: int64"
      ]
     },
     "execution_count": 5,
     "metadata": {},
     "output_type": "execute_result"
    }
   ],
   "source": [
    "import pandas as pd\n",
    "# Считываем данные из файлов\n",
    "ratings_df = pd.read_csv('ratings.csv')\n",
    "movie_df = pd.read_csv('movies.csv')\n",
    "# Объединяем базу фильмов с базой рейтингов, в которых оценка равна 5\n",
    "joined = movie_df.merge(ratings_df[ ratings_df.rating == 5 ], on='movieId', how='left')\n",
    "# Выбираем самый лучший фильм\n",
    "joined['title'].value_counts().head(1)"
   ]
  },
  {
   "cell_type": "markdown",
   "metadata": {},
   "source": [
    "### Задание 2\n",
    "По данным файла **power.csv** посчитайте суммарное потребление стран Прибалтики (Латвия, Литва и Эстония) категорий 4, 12 и 21 за период с 2005 по 2010 года.  \n",
    "Не учитывайте в расчетах отрицательные значения **quantity**."
   ]
  },
  {
   "cell_type": "code",
   "execution_count": 9,
   "metadata": {},
   "outputs": [
    {
     "data": {
      "text/plain": [
       "240580.0"
      ]
     },
     "execution_count": 9,
     "metadata": {},
     "output_type": "execute_result"
    }
   ],
   "source": [
    "data = pd.read_csv('power.csv')\n",
    "filtered_countries = data[((data['country']=='Lithuania')|(data['country']=='Estonia')|(data['country']=='Latvia'))& \\\n",
    "                          (data['quantity'] >= 0)& \\\n",
    "                          ((data['category']== 4)|(data['category']== 12)|(data['category']== 21))& \\\n",
    "                          ((data['year'] >= 2005) & (data['year'] <= 2010)) ]\n",
    "filtered_countries['quantity'].sum()"
   ]
  },
  {
   "cell_type": "markdown",
   "metadata": {},
   "source": [
    "### Задание 3\n",
    "Выберите страницу любого сайта с табличными данными.  \n",
    "Импортируйте таблицы в pandas dataframe.  \n",
    "Примеры страниц (необязательно брать именно эти):  \n",
    "https://best-novostroy.ru/realty/novostroyki_moscow/sao/zhk_zorge_9/buy_kvartira/"
   ]
  },
  {
   "cell_type": "code",
   "execution_count": 10,
   "metadata": {},
   "outputs": [
    {
     "data": {
      "text/html": [
       "<div>\n",
       "<style scoped>\n",
       "    .dataframe tbody tr th:only-of-type {\n",
       "        vertical-align: middle;\n",
       "    }\n",
       "\n",
       "    .dataframe tbody tr th {\n",
       "        vertical-align: top;\n",
       "    }\n",
       "\n",
       "    .dataframe thead th {\n",
       "        text-align: right;\n",
       "    }\n",
       "</style>\n",
       "<table border=\"1\" class=\"dataframe\">\n",
       "  <thead>\n",
       "    <tr style=\"text-align: right;\">\n",
       "      <th></th>\n",
       "      <th>Квартира</th>\n",
       "      <th>Корпус</th>\n",
       "      <th>Секция</th>\n",
       "      <th>Этаж</th>\n",
       "      <th>Площадь</th>\n",
       "      <th>Цена</th>\n",
       "    </tr>\n",
       "  </thead>\n",
       "  <tbody>\n",
       "    <tr>\n",
       "      <th>0</th>\n",
       "      <td>1 комната</td>\n",
       "      <td>3</td>\n",
       "      <td>1</td>\n",
       "      <td>8</td>\n",
       "      <td>27.14 кв.м</td>\n",
       "      <td>5 166 000 ₽</td>\n",
       "    </tr>\n",
       "    <tr>\n",
       "      <th>1</th>\n",
       "      <td>1 комната</td>\n",
       "      <td>3</td>\n",
       "      <td>1</td>\n",
       "      <td>9</td>\n",
       "      <td>27.14 кв.м</td>\n",
       "      <td>5 208 000 ₽</td>\n",
       "    </tr>\n",
       "    <tr>\n",
       "      <th>2</th>\n",
       "      <td>1 комната</td>\n",
       "      <td>3</td>\n",
       "      <td>1</td>\n",
       "      <td>10</td>\n",
       "      <td>27.14 кв.м</td>\n",
       "      <td>5 250 000 ₽</td>\n",
       "    </tr>\n",
       "    <tr>\n",
       "      <th>3</th>\n",
       "      <td>1 комната</td>\n",
       "      <td>3</td>\n",
       "      <td>1</td>\n",
       "      <td>6</td>\n",
       "      <td>28.2 кв.м</td>\n",
       "      <td>5 260 500 ₽</td>\n",
       "    </tr>\n",
       "    <tr>\n",
       "      <th>4</th>\n",
       "      <td>1 комната</td>\n",
       "      <td>3</td>\n",
       "      <td>1</td>\n",
       "      <td>11</td>\n",
       "      <td>27.64 кв.м</td>\n",
       "      <td>5 376 000 ₽</td>\n",
       "    </tr>\n",
       "  </tbody>\n",
       "</table>\n",
       "</div>"
      ],
      "text/plain": [
       "  \\n\\t\\t\\tКвартира\\n\\t\\t  \\n\\t\\t\\tКорпус\\n\\t\\t  \\n\\t\\t\\tСекция\\n\\t\\t  \\\n",
       "0              1 комната                     3                     1   \n",
       "1              1 комната                     3                     1   \n",
       "2              1 комната                     3                     1   \n",
       "3              1 комната                     3                     1   \n",
       "4              1 комната                     3                     1   \n",
       "\n",
       "   \\n\\t\\t\\tЭтаж\\n\\t\\t \\n\\t\\t\\tПлощадь\\n\\t\\t \\n\\t\\t\\tЦена\\n\\t\\t  \n",
       "0                   8            27.14 кв.м        5 166 000 ₽  \n",
       "1                   9            27.14 кв.м        5 208 000 ₽  \n",
       "2                  10            27.14 кв.м        5 250 000 ₽  \n",
       "3                   6             28.2 кв.м        5 260 500 ₽  \n",
       "4                  11            27.64 кв.м        5 376 000 ₽  "
      ]
     },
     "execution_count": 10,
     "metadata": {},
     "output_type": "execute_result"
    }
   ],
   "source": [
    "data = pd.read_html(\"https://best-novostroy.ru/realty/novostroyki_moscow/sao/zhk_zorge_9/buy_kvartira/\")[0]\n",
    "data.head()"
   ]
  }
 ],
 "metadata": {
  "kernelspec": {
   "display_name": "Python 3",
   "language": "python",
   "name": "python3"
  },
  "language_info": {
   "codemirror_mode": {
    "name": "ipython",
    "version": 3
   },
   "file_extension": ".py",
   "mimetype": "text/x-python",
   "name": "python",
   "nbconvert_exporter": "python",
   "pygments_lexer": "ipython3",
   "version": "3.6.4"
  }
 },
 "nbformat": 4,
 "nbformat_minor": 2
}
