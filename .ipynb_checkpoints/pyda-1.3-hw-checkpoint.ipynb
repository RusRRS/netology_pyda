{
 "cells": [
  {
   "cell_type": "markdown",
   "metadata": {},
   "source": [
    "## Задание 1"
   ]
  },
  {
   "cell_type": "markdown",
   "metadata": {},
   "source": [
    "Дан список вида:"
   ]
  },
  {
   "cell_type": "code",
   "execution_count": 6,
   "metadata": {},
   "outputs": [],
   "source": [
    "data = [\n",
    "    [13, 25, 23, 34],\n",
    "    [45, 32, 44, 47],\n",
    "    [12, 33, 23, 95],\n",
    "    [13, 53, 34, 35]\n",
    "]"
   ]
  },
  {
   "cell_type": "markdown",
   "metadata": {},
   "source": [
    "Напишите функцию, которая возвращает сумму элементов на диагонали. Т. е. 13+32+23+35."
   ]
  },
  {
   "cell_type": "code",
   "execution_count": 7,
   "metadata": {},
   "outputs": [
    {
     "data": {
      "text/plain": [
       "103"
      ]
     },
     "execution_count": 7,
     "metadata": {},
     "output_type": "execute_result"
    }
   ],
   "source": [
    "# Создаем функцию суммирования по диагонали\n",
    "def diag_sum(data):\n",
    "    i = 0\n",
    "    diag_sum = 0\n",
    "    for i in range(len(data)):\n",
    "        diag_sum += data[i][i]\n",
    "    return diag_sum\n",
    "# Выводим результат\n",
    "diag_sum(data)"
   ]
  },
  {
   "cell_type": "code",
   "execution_count": 8,
   "metadata": {},
   "outputs": [],
   "source": [
    "# Стандартный вариант работает для квадратных матриц. Переделаем для прямоугольных.\n",
    "def diag_sum_rectangle(data):\n",
    "    # Выбираем максимальное измерение\n",
    "    min_size = min(len(data),len(data[0]))\n",
    "    i = 0\n",
    "    diag_sum = 0\n",
    "    for i in range(min_size):\n",
    "        diag_sum += data[i][i]\n",
    "    return diag_sum"
   ]
  },
  {
   "cell_type": "code",
   "execution_count": 9,
   "metadata": {},
   "outputs": [
    {
     "name": "stdout",
     "output_type": "stream",
     "text": [
      "195\n",
      "100\n"
     ]
    }
   ],
   "source": [
    "# Выводим вертикальный прямоугольник\n",
    "data2 = [\n",
    "    [13, 25, 23, 34],\n",
    "    [45, 32, 44, 47],\n",
    "    [12, 33, 55, 95],\n",
    "    [12, 33, 23, 95],\n",
    "    [12, 33, 23, 95],\n",
    "    [12, 33, 23, 95],\n",
    "    [12, 33, 23, 95],\n",
    "    [13, 53, 34, 35]\n",
    "]\n",
    "print(diag_sum_rectangle(data2))\n",
    "# Выводим горизонтальный прямоугольник\n",
    "data3 = [\n",
    "    [13, 25, 23, 34, 44, 47, 44, 78],\n",
    "    [45, 32, 44, 47, 23, 34, 44, 44],\n",
    "    [12, 33, 55, 95, 44, 47, 23, 33]\n",
    "]\n",
    "print(diag_sum_rectangle(data3))"
   ]
  },
  {
   "cell_type": "markdown",
   "metadata": {},
   "source": [
    "## Задание 2"
   ]
  },
  {
   "cell_type": "markdown",
   "metadata": {},
   "source": [
    "Дан список чисел, часть из которых имеют строковый тип или содержат буквы. Напишите функцию, которая возвращает сумму квадратов элементов, которые могут быть числами."
   ]
  },
  {
   "cell_type": "code",
   "execution_count": 10,
   "metadata": {},
   "outputs": [],
   "source": [
    "data = [1, '5', 'abc', 20, '2']"
   ]
  },
  {
   "cell_type": "code",
   "execution_count": 11,
   "metadata": {},
   "outputs": [
    {
     "data": {
      "text/plain": [
       "430"
      ]
     },
     "execution_count": 11,
     "metadata": {},
     "output_type": "execute_result"
    }
   ],
   "source": [
    "def int_sum_func(data):\n",
    "    int_sum = 0\n",
    "    for element in data:\n",
    "        if str(element).isdigit():\n",
    "            int_sum += int(element)**2\n",
    "    return int_sum  \n",
    "int_sum_func(data)"
   ]
  },
  {
   "cell_type": "markdown",
   "metadata": {},
   "source": [
    "## Задание 3"
   ]
  },
  {
   "cell_type": "markdown",
   "metadata": {},
   "source": [
    "Напишите функцию, возвращающую сумму первых n чисел Фибоначчи."
   ]
  },
  {
   "cell_type": "code",
   "execution_count": 12,
   "metadata": {},
   "outputs": [
    {
     "name": "stdout",
     "output_type": "stream",
     "text": [
      "([0, 1, 1, 2, 3, 5, 8, 13], 33)\n"
     ]
    }
   ],
   "source": [
    "def fibo_sum(n):\n",
    "    fibo_list = []\n",
    "    fibo_sum = 0\n",
    "    def fibo_numbers(n):\n",
    "        if n == 0:\n",
    "            return 0\n",
    "        elif n == 1:\n",
    "            return 1\n",
    "        else:\n",
    "            return fibo_numbers(n-1) + fibo_numbers(n-2)    \n",
    "    for i in range(0, n + 1):\n",
    "        fibo_list.append(fibo_numbers(i))\n",
    "    for j in range(0, n + 1):\n",
    "        fibo_sum += fibo_list[j]\n",
    "    return fibo_list, fibo_sum   \n",
    "\n",
    "print(fibo_sum(7))"
   ]
  },
  {
   "cell_type": "markdown",
   "metadata": {},
   "source": [
    "## Задание 4"
   ]
  },
  {
   "cell_type": "markdown",
   "metadata": {},
   "source": [
    "Дан набор данных об обучении студентов на курсе программирования, который содержит: \n",
    "1) имя\n",
    "2) фамилию \n",
    "3) пол \n",
    "4) наличие у студента опыта в программировании \n",
    "5) набор оценок за домашние работы \n",
    "6) оценку за итоговую работу.\n",
    "\n",
    "Напишите программу, которая будет принимать команду от пользователя и возвращать соотвествующий результат.\n",
    "Список команд: \n",
    "1 - вывести на экран среднюю оценку за все ДЗ по группе и вывести на экран среднюю оценку за экзамен по группе;\n",
    "2 - вывести среднюю оценку за ДЗ и за экзамен по группе в разрезе пола студентов\n",
    "3 - вывести среднюю оценку за ДЗ и за экзамен в разрезе наличия опыта в программировании у студентов.\n",
    "\n",
    "Прогрмма должна быть полностью декомпозирована на функции (кроме объявления функций и вызова итоговой функции в реализации ничего быть не должно)."
   ]
  },
  {
   "cell_type": "code",
   "execution_count": 13,
   "metadata": {},
   "outputs": [],
   "source": [
    "students_list = [\n",
    "    {'name': 'Василий', 'surname': 'Теркин', 'sex': 'м', 'program_exp': True, 'grade': [8, 8, 9, 10, 9], 'exam': 9},\n",
    "    {'name': 'Мария', 'surname': 'Павлова', 'sex': 'ж', 'program_exp': True, 'grade': [7, 8, 9, 7, 9], 'exam': 8},\n",
    "    {'name': 'Ирина', 'surname': 'Андреева', 'sex': 'ж', 'program_exp': True, 'grade': [10, 9, 8, 10, 10], 'exam': 10},\n",
    "    {'name': 'Татьяна', 'surname': 'Сидорова', 'sex': 'ж', 'program_exp': True, 'grade': [7, 8, 8, 9, 8], 'exam': 8},\n",
    "    {'name': 'Иван', 'surname': 'Васильев', 'sex': 'ж', 'program_exp': True, 'grade': [9, 8, 9, 6, 9], 'exam': 10},\n",
    "    {'name': 'Роман', 'surname': 'Золотарев', 'sex': 'ж', 'program_exp': False, 'grade': [8, 9, 9, 6, 9], 'exam': 10}\n",
    "]"
   ]
  },
  {
   "cell_type": "code",
   "execution_count": 14,
   "metadata": {},
   "outputs": [],
   "source": [
    "# Раздел 01. Формируем функции с выбором всех вариантов:\n",
    "\n",
    "# Шаг 01.01. Задаем список список оценок за домашнее задание\n",
    "def grade_list():\n",
    "    grade_list = []\n",
    "    for element_list in students_list:\n",
    "        for element in element_list['grade']:\n",
    "            grade_list.append(element)\n",
    "    return grade_list\n",
    "\n",
    "# Шаг 01.02. Задаем список список оценок за экзамен\n",
    "def exam_list():\n",
    "    exam_list = []\n",
    "    for element in students_list:\n",
    "        exam_list.append(element['exam'])\n",
    "    return exam_list\n",
    "\n",
    "# Шаг 01.03. Выводим обобщенный вариант для вывода без фильтров\n",
    "def var_all():\n",
    "    result_exam = round(sum(exam_list()) / len(exam_list()), 2)\n",
    "    result_grade = round(sum(grade_list()) / len(grade_list()), 2)\n",
    "\n",
    "# Шаг 01.04.Вывод результатов\n",
    "    return \"ДЗ: \" , result_grade,\"Экзамены: \", result_exam"
   ]
  },
  {
   "cell_type": "code",
   "execution_count": 15,
   "metadata": {},
   "outputs": [],
   "source": [
    "# Раздел 02. Формируем функции с выбором по фильтрам:\n",
    "\n",
    "# Шаг 02.01. Задаем список список оценок за домашнее задание\n",
    "def grade_list_filter(filter_name, filter_value):\n",
    "    filter_list = []\n",
    "    for element_list in students_list:\n",
    "        if element_list[filter_name] == filter_value:\n",
    "            for element in element_list['grade']:\n",
    "                filter_list.append(element)\n",
    "    return filter_list           \n",
    "\n",
    "# Шаг 02.02. Задаем список список оценок за экзамен\n",
    "def exam_list_filter(filter_name, filter_value):\n",
    "    filter_list = []\n",
    "    for element in students_list:\n",
    "        if element[filter_name] == filter_value:\n",
    "            filter_list.append(element['exam'])\n",
    "    return filter_list\n",
    "\n",
    "# Шаг 02.03. Выводим обобщенный вариант для вывода без фильтров\n",
    "def var_filter(filter_name, filter_value):\n",
    "    result_exam = round(sum(exam_list_filter(filter_name,filter_value)) / len(exam_list_filter(filter_name,filter_value)),2)\n",
    "    result_grade = round(sum(grade_list_filter(filter_name,filter_value)) / len(grade_list_filter(filter_name,filter_value)),2)\n",
    "\n",
    "# Шаг 02.04.Вывод результатов\n",
    "    return \"ДЗ: \", result_grade,\"Экзамены: \", result_exam\n",
    "    "
   ]
  },
  {
   "cell_type": "code",
   "execution_count": 16,
   "metadata": {},
   "outputs": [],
   "source": [
    "# Раздел 03. Формируем функцию с выбором вариантов ввода:\n",
    "def input_func(input_code):\n",
    "    if input_code == 1:\n",
    "        print(\"Данные по средним оценкам по всей группе\")\n",
    "        print(var_all())\n",
    "    elif input_code == 2:\n",
    "        print(\"Данные по средним оценкам в зависимости от пола\")\n",
    "        print(\"Средняя оценка среди женщин составляет: \")\n",
    "        print(var_filter(\"sex\", \"ж\"))\n",
    "        print(\"Средняя оценка среди мужчин составляет: \")\n",
    "        print(var_filter(\"sex\", \"м\"))          \n",
    "    elif input_code == 3:\n",
    "        print(\"Данные по средним оценкам в зависимости от опыта в программировании\")\n",
    "        print(\"Средняя оценка среди имеющих опыт в программировании составляет: \")\n",
    "        print(var_filter(\"sex\", \"ж\"))\n",
    "        print(\"Средняя оценка среди не имеющих опыт в программировании составляет: \")\n",
    "        print(var_filter(\"sex\", \"м\"))    \n",
    "    else:\n",
    "        print(\"Неправильная команда\")\n",
    "    return input_code"
   ]
  },
  {
   "cell_type": "code",
   "execution_count": 17,
   "metadata": {},
   "outputs": [
    {
     "name": "stdout",
     "output_type": "stream",
     "text": [
      "2\n",
      "Данные по средним оценкам в зависимости от пола\n",
      "Средняя оценка среди женщин составляет: \n",
      "('ДЗ: ', 8.36, 'Экзамены: ', 9.2)\n",
      "Средняя оценка среди мужчин составляет: \n",
      "('ДЗ: ', 8.8, 'Экзамены: ', 9.0)\n"
     ]
    },
    {
     "data": {
      "text/plain": [
       "2"
      ]
     },
     "execution_count": 17,
     "metadata": {},
     "output_type": "execute_result"
    }
   ],
   "source": [
    "# Раздел 04. Вывод результатов:\n",
    "input_func(int(input()))"
   ]
  }
 ],
 "metadata": {
  "kernelspec": {
   "display_name": "Python 3",
   "language": "python",
   "name": "python3"
  },
  "language_info": {
   "codemirror_mode": {
    "name": "ipython",
    "version": 3
   },
   "file_extension": ".py",
   "mimetype": "text/x-python",
   "name": "python",
   "nbconvert_exporter": "python",
   "pygments_lexer": "ipython3",
   "version": "3.6.4"
  }
 },
 "nbformat": 4,
 "nbformat_minor": 2
}
