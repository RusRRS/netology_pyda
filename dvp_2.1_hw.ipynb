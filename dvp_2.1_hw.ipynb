{
 "cells": [
  {
   "cell_type": "markdown",
   "metadata": {},
   "source": [
    "# ДЗ DVP 01."
   ]
  },
  {
   "cell_type": "code",
   "execution_count": 71,
   "metadata": {},
   "outputs": [],
   "source": [
    "import numpy as np\n",
    "import pandas as pd\n",
    "from sklearn.linear_model import LinearRegression"
   ]
  },
  {
   "cell_type": "markdown",
   "metadata": {},
   "source": [
    "Создадим условный датасет (500 значений):  \n",
    "Изменение веса человека из поведения:   \n",
    "**owner_weight** - Исходный вес человека  \n",
    "**steps** - кол-во пройденных шагов  \n",
    "**food** - Кол-во потребленной пищи в каллориях за неделю  \n",
    "**age** - Возраст в годах  \n",
    "**growth** - Рост в см  \n",
    "**grade** - Средние оценки в школе"
   ]
  },
  {
   "cell_type": "code",
   "execution_count": 108,
   "metadata": {},
   "outputs": [
    {
     "data": {
      "text/html": [
       "<div>\n",
       "<style scoped>\n",
       "    .dataframe tbody tr th:only-of-type {\n",
       "        vertical-align: middle;\n",
       "    }\n",
       "\n",
       "    .dataframe tbody tr th {\n",
       "        vertical-align: top;\n",
       "    }\n",
       "\n",
       "    .dataframe thead th {\n",
       "        text-align: right;\n",
       "    }\n",
       "</style>\n",
       "<table border=\"1\" class=\"dataframe\">\n",
       "  <thead>\n",
       "    <tr style=\"text-align: right;\">\n",
       "      <th></th>\n",
       "      <th>owner_weight</th>\n",
       "      <th>steps</th>\n",
       "      <th>food</th>\n",
       "      <th>age</th>\n",
       "      <th>growth</th>\n",
       "      <th>grade</th>\n",
       "      <th>final_weight</th>\n",
       "    </tr>\n",
       "  </thead>\n",
       "  <tbody>\n",
       "    <tr>\n",
       "      <td>0</td>\n",
       "      <td>72</td>\n",
       "      <td>8079</td>\n",
       "      <td>2053</td>\n",
       "      <td>86</td>\n",
       "      <td>164</td>\n",
       "      <td>1</td>\n",
       "      <td>71.064784</td>\n",
       "    </tr>\n",
       "    <tr>\n",
       "      <td>1</td>\n",
       "      <td>94</td>\n",
       "      <td>8056</td>\n",
       "      <td>2053</td>\n",
       "      <td>53</td>\n",
       "      <td>198</td>\n",
       "      <td>2</td>\n",
       "      <td>94.217949</td>\n",
       "    </tr>\n",
       "    <tr>\n",
       "      <td>2</td>\n",
       "      <td>132</td>\n",
       "      <td>8099</td>\n",
       "      <td>2019</td>\n",
       "      <td>60</td>\n",
       "      <td>211</td>\n",
       "      <td>4</td>\n",
       "      <td>133.214367</td>\n",
       "    </tr>\n",
       "    <tr>\n",
       "      <td>3</td>\n",
       "      <td>124</td>\n",
       "      <td>8103</td>\n",
       "      <td>2018</td>\n",
       "      <td>86</td>\n",
       "      <td>198</td>\n",
       "      <td>5</td>\n",
       "      <td>124.667048</td>\n",
       "    </tr>\n",
       "    <tr>\n",
       "      <td>4</td>\n",
       "      <td>94</td>\n",
       "      <td>8098</td>\n",
       "      <td>2046</td>\n",
       "      <td>32</td>\n",
       "      <td>178</td>\n",
       "      <td>2</td>\n",
       "      <td>94.197617</td>\n",
       "    </tr>\n",
       "  </tbody>\n",
       "</table>\n",
       "</div>"
      ],
      "text/plain": [
       "   owner_weight  steps  food  age  growth  grade  final_weight\n",
       "0            72   8079  2053   86     164      1     71.064784\n",
       "1            94   8056  2053   53     198      2     94.217949\n",
       "2           132   8099  2019   60     211      4    133.214367\n",
       "3           124   8103  2018   86     198      5    124.667048\n",
       "4            94   8098  2046   32     178      2     94.197617"
      ]
     },
     "execution_count": 108,
     "metadata": {},
     "output_type": "execute_result"
    }
   ],
   "source": [
    "# Создаём сэмпл из 500 значений\n",
    "n_samples = 500\n",
    "# Задаем, случайным образом параметры исходного веса, пройденных шагов и потребленной энергии.\n",
    "\n",
    "owner_weight = np.random.choice(90, n_samples) + 50\n",
    "steps = np.random.choice(120, n_samples) + 8000\n",
    "food = np.random.choice(80, n_samples) + 2000\n",
    "age = np.random.choice(80, n_samples) + 18\n",
    "growth = np.random.choice(80, n_samples) + 150\n",
    "grade = np.random.choice(5, n_samples) + 1\n",
    "\n",
    "# Целевая метрика: вес на следующий день\n",
    "final_weight = owner_weight -  7 * (food - (steps * owner_weight * 0.00035) - (10 * owner_weight + 6.25 * growth - 5 * age)) * 0.25 / 1000\n",
    "\n",
    "# Заносим это все в датафрейм\n",
    "data = pd.DataFrame({'owner_weight': owner_weight, 'steps': steps, 'food': food, 'age': age, 'growth': growth, \n",
    "                     'grade': grade,'final_weight': final_weight })\n",
    "data.head(5)"
   ]
  },
  {
   "cell_type": "code",
   "execution_count": 109,
   "metadata": {},
   "outputs": [
    {
     "name": "stdout",
     "output_type": "stream",
     "text": [
      "Weights: [ 0.00910484 -0.52425398]\n",
      "Bias: 23.240862939545423\n",
      "Error: 23.426826489686288\n"
     ]
    }
   ],
   "source": [
    "# Предположение 01. Чем больше ходить и лучше учиться тем сильнее похудеешь\n",
    "from sklearn.metrics import mean_absolute_error\n",
    "\n",
    "# Задаем X и Y\n",
    "X = data[['steps', 'grade']]\n",
    "y = data['final_weight']\n",
    "\n",
    "# Создаем линейную модель для данной функции\n",
    "reg = LinearRegression().fit(X, y) \n",
    "\n",
    "# Печать результата\n",
    "print('Weights: {}'.format(reg.coef_)) # Веса\n",
    "print('Bias: {}'.format(reg.intercept_)) # Сдвиг(подгонка модели)\n",
    "\n",
    "# Предсказываем результат и рассчитываем ошибку\n",
    "pred_values = reg.predict(data[['steps', 'grade']])\n",
    "print('Error: {}'.format(mean_absolute_error(pred_values, y)))"
   ]
  },
  {
   "cell_type": "markdown",
   "metadata": {},
   "source": [
    "Очень большая ошибка. Попробуем другой вариант."
   ]
  },
  {
   "cell_type": "code",
   "execution_count": 110,
   "metadata": {},
   "outputs": [
    {
     "name": "stdout",
     "output_type": "stream",
     "text": [
      "Weights: [ 1.02302968e+00  2.18956355e-04 -1.57886447e-03 -9.04262909e-03]\n",
      "Bias: -0.0754797562298819\n",
      "Error: 0.21924763565459404\n"
     ]
    }
   ],
   "source": [
    "# Предположение 02. Зависимость от пройденного расстояния, питания и возраста\n",
    "from sklearn.metrics import mean_absolute_error\n",
    "\n",
    "# Задаем X и Y\n",
    "X = data[['owner_weight', 'steps', 'food', 'age']]\n",
    "y = data['final_weight']\n",
    "\n",
    "# Создаем линейную модель для данной функции\n",
    "reg = LinearRegression().fit(X, y) # .fit(X, y) - обучает линейную регрессию\n",
    "\n",
    "# Печать результата\n",
    "print('Weights: {}'.format(reg.coef_)) # Веса\n",
    "print('Bias: {}'.format(reg.intercept_)) # Сдвиг(подгонка модели)\n",
    "\n",
    "# Предсказываем результат и рассчитываем ошибку\n",
    "pred_values = reg.predict(data[['owner_weight', 'steps', 'food', 'age']])\n",
    "print('Error: {}'.format(mean_absolute_error(pred_values, y)))"
   ]
  },
  {
   "cell_type": "markdown",
   "metadata": {},
   "source": [
    "**Результат действия модели**:  \n",
    "Ошибка = 0.219, т.е. можно принять"
   ]
  }
 ],
 "metadata": {
  "kernelspec": {
   "display_name": "Python 3",
   "language": "python",
   "name": "python3"
  },
  "language_info": {
   "codemirror_mode": {
    "name": "ipython",
    "version": 3
   },
   "file_extension": ".py",
   "mimetype": "text/x-python",
   "name": "python",
   "nbconvert_exporter": "python",
   "pygments_lexer": "ipython3",
   "version": "3.6.4"
  }
 },
 "nbformat": 4,
 "nbformat_minor": 2
}
